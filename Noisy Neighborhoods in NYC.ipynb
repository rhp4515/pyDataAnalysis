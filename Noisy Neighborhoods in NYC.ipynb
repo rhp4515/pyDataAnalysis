{
 "metadata": {
  "name": ""
 },
 "nbformat": 3,
 "nbformat_minor": 0,
 "worksheets": [
  {
   "cells": [
    {
     "cell_type": "heading",
     "level": 1,
     "metadata": {},
     "source": [
      "The noisest zip codes in NYC"
     ]
    },
    {
     "cell_type": "code",
     "collapsed": false,
     "input": [
      "import pandas as pd\n",
      "\n",
      "font = {'family' : 'normal',\n",
      "        'weight' : 'bold',\n",
      "        'size'   : 22}\n",
      "\n",
      "matplotlib.rc('font', **font)\n",
      "\n",
      "pd.set_option('display.mpl_style', 'default')\n",
      "figsize(15, 6)\n",
      "pd.set_option('display.line_width', 4000)\n",
      "pd.set_option('display.max_columns', 100)\n",
      "orig_data = pd.read_csv('./311-service-requests.csv', nrows=100000, parse_dates=['Created Date'])\n",
      "orig_data['Street Name'].fillna(\"\", inplace=True) # This is replacing missing street names\n",
      "brooklyn = orig_data[orig_data['Borough'] == 'BROOKLYN']\n",
      "queens = orig_data[orig_data['Borough'] == 'QUEENS']\n",
      "manhattan = orig_data[orig_data['Borough'] == 'MANHATTAN']\n",
      "bronx = orig_data[orig_data['Borough'] == 'BRONX']"
     ],
     "language": "python",
     "metadata": {},
     "outputs": [],
     "prompt_number": 1
    },
    {
     "cell_type": "heading",
     "level": 2,
     "metadata": {},
     "source": [
      "A quick look at the type of complaints in Brooklyn"
     ]
    },
    {
     "cell_type": "code",
     "collapsed": false,
     "input": [
      "brooklyn[['Complaint Type','Incident Zip']][:20]"
     ],
     "language": "python",
     "metadata": {},
     "outputs": [
      {
       "html": [
        "<div style=\"max-height:1000px;max-width:1500px;overflow:auto;\">\n",
        "<table border=\"1\" class=\"dataframe\">\n",
        "  <thead>\n",
        "    <tr style=\"text-align: right;\">\n",
        "      <th></th>\n",
        "      <th>Complaint Type</th>\n",
        "      <th>Incident Zip</th>\n",
        "    </tr>\n",
        "  </thead>\n",
        "  <tbody>\n",
        "    <tr>\n",
        "      <th>9 </th>\n",
        "      <td>       Noise - Commercial</td>\n",
        "      <td> 11225</td>\n",
        "    </tr>\n",
        "    <tr>\n",
        "      <th>10</th>\n",
        "      <td> Noise - House of Worship</td>\n",
        "      <td> 11218</td>\n",
        "    </tr>\n",
        "    <tr>\n",
        "      <th>14</th>\n",
        "      <td>                   Rodent</td>\n",
        "      <td> 11219</td>\n",
        "    </tr>\n",
        "    <tr>\n",
        "      <th>17</th>\n",
        "      <td>          Illegal Parking</td>\n",
        "      <td> 11236</td>\n",
        "    </tr>\n",
        "    <tr>\n",
        "      <th>18</th>\n",
        "      <td>   Street Light Condition</td>\n",
        "      <td>   NaN</td>\n",
        "    </tr>\n",
        "    <tr>\n",
        "      <th>20</th>\n",
        "      <td> Noise - House of Worship</td>\n",
        "      <td> 11216</td>\n",
        "    </tr>\n",
        "    <tr>\n",
        "      <th>23</th>\n",
        "      <td>       Noise - Commercial</td>\n",
        "      <td> 11216</td>\n",
        "    </tr>\n",
        "    <tr>\n",
        "      <th>26</th>\n",
        "      <td>   Street Light Condition</td>\n",
        "      <td>   NaN</td>\n",
        "    </tr>\n",
        "    <tr>\n",
        "      <th>31</th>\n",
        "      <td>  Noise - Street/Sidewalk</td>\n",
        "      <td> 11236</td>\n",
        "    </tr>\n",
        "    <tr>\n",
        "      <th>36</th>\n",
        "      <td> Traffic Signal Condition</td>\n",
        "      <td> 11235</td>\n",
        "    </tr>\n",
        "    <tr>\n",
        "      <th>37</th>\n",
        "      <td>       Noise - Commercial</td>\n",
        "      <td> 11216</td>\n",
        "    </tr>\n",
        "    <tr>\n",
        "      <th>38</th>\n",
        "      <td> Traffic Signal Condition</td>\n",
        "      <td> 11213</td>\n",
        "    </tr>\n",
        "    <tr>\n",
        "      <th>42</th>\n",
        "      <td>       Noise - Commercial</td>\n",
        "      <td> 11231</td>\n",
        "    </tr>\n",
        "    <tr>\n",
        "      <th>43</th>\n",
        "      <td>       Noise - Commercial</td>\n",
        "      <td> 11234</td>\n",
        "    </tr>\n",
        "    <tr>\n",
        "      <th>49</th>\n",
        "      <td>  Noise - Street/Sidewalk</td>\n",
        "      <td> 11225</td>\n",
        "    </tr>\n",
        "    <tr>\n",
        "      <th>52</th>\n",
        "      <td>         Blocked Driveway</td>\n",
        "      <td> 11207</td>\n",
        "    </tr>\n",
        "    <tr>\n",
        "      <th>56</th>\n",
        "      <td>     Sanitation Condition</td>\n",
        "      <td> 11231</td>\n",
        "    </tr>\n",
        "    <tr>\n",
        "      <th>57</th>\n",
        "      <td>                 ELECTRIC</td>\n",
        "      <td> 11233</td>\n",
        "    </tr>\n",
        "    <tr>\n",
        "      <th>58</th>\n",
        "      <td>                 PLUMBING</td>\n",
        "      <td> 11233</td>\n",
        "    </tr>\n",
        "    <tr>\n",
        "      <th>60</th>\n",
        "      <td>                 ELECTRIC</td>\n",
        "      <td> 11233</td>\n",
        "    </tr>\n",
        "  </tbody>\n",
        "</table>\n",
        "</div>"
       ],
       "metadata": {},
       "output_type": "pyout",
       "prompt_number": 2,
       "text": [
        "              Complaint Type Incident Zip\n",
        "9         Noise - Commercial        11225\n",
        "10  Noise - House of Worship        11218\n",
        "14                    Rodent        11219\n",
        "17           Illegal Parking        11236\n",
        "18    Street Light Condition          NaN\n",
        "20  Noise - House of Worship        11216\n",
        "23        Noise - Commercial        11216\n",
        "26    Street Light Condition          NaN\n",
        "31   Noise - Street/Sidewalk        11236\n",
        "36  Traffic Signal Condition        11235\n",
        "37        Noise - Commercial        11216\n",
        "38  Traffic Signal Condition        11213\n",
        "42        Noise - Commercial        11231\n",
        "43        Noise - Commercial        11234\n",
        "49   Noise - Street/Sidewalk        11225\n",
        "52          Blocked Driveway        11207\n",
        "56      Sanitation Condition        11231\n",
        "57                  ELECTRIC        11233\n",
        "58                  PLUMBING        11233\n",
        "60                  ELECTRIC        11233"
       ]
      }
     ],
     "prompt_number": 2
    },
    {
     "cell_type": "code",
     "collapsed": false,
     "input": [
      "bk_noise = brooklyn[(brooklyn['Complaint Type'] == 'Noise - Street/Sidewalk') | (brooklyn['Complaint Type'] == 'Noise - Commercial')]\n",
      "qn_noise = queens[(queens['Complaint Type'] == 'Noise - Street/Sidewalk') | (queens['Complaint Type'] == 'Noise - Commercial')]\n",
      "man_noise = manhattan[(manhattan['Complaint Type'] == 'Noise - Street/Sidewalk') | (manhattan['Complaint Type'] == 'Noise - Commercial')]\n",
      "bx_noise = bronx[(bronx['Complaint Type'] == 'Noise - Street/Sidewalk') | (bronx['Complaint Type'] == 'Noise - Commercial')]"
     ],
     "language": "python",
     "metadata": {},
     "outputs": [],
     "prompt_number": 3
    },
    {
     "cell_type": "heading",
     "level": 1,
     "metadata": {},
     "source": [
      "Queens zips with the most complaints"
     ]
    },
    {
     "cell_type": "code",
     "collapsed": false,
     "input": [
      "my_colors = ['#00CC99', '#B894FF', '#F7464A', '#33CCFF', '#FFCC00', '#FF0000', '#00CC00']  "
     ],
     "language": "python",
     "metadata": {},
     "outputs": [],
     "prompt_number": 9
    },
    {
     "cell_type": "code",
     "collapsed": false,
     "input": [
      "qn_noise['Incident Zip'].value_counts()[:7].plot(kind='bar', color=my_colors)"
     ],
     "language": "python",
     "metadata": {},
     "outputs": [
      {
       "metadata": {},
       "output_type": "pyout",
       "prompt_number": 10,
       "text": [
        "<matplotlib.axes.AxesSubplot at 0x1117846d0>"
       ]
      },
      {
       "metadata": {},
       "output_type": "display_data",
       "png": "[encoded data removed]",
       "text": [
        "<matplotlib.figure.Figure at 0x112ace190>"
       ]
      }
     ],
     "prompt_number": 10
    },
    {
     "cell_type": "heading",
     "level": 1,
     "metadata": {},
     "source": [
      "Brooklyn zips with the most complaints"
     ]
    },
    {
     "cell_type": "code",
     "collapsed": false,
     "input": [
      "bk_noise['Incident Zip'].value_counts()[:10].plot(kind='bar', color=my_colors)"
     ],
     "language": "python",
     "metadata": {},
     "outputs": [
      {
       "metadata": {},
       "output_type": "pyout",
       "prompt_number": 11,
       "text": [
        "<matplotlib.axes.AxesSubplot at 0x10dd9a910>"
       ]
      },
      {
       "metadata": {},
       "output_type": "display_data",
       "png": "[encoded data removed]",
       "text": [
        "<matplotlib.figure.Figure at 0x113527910>"
       ]
      }
     ],
     "prompt_number": 11
    },
    {
     "cell_type": "heading",
     "level": 1,
     "metadata": {},
     "source": [
      "Manhattan zips with the most complaints"
     ]
    },
    {
     "cell_type": "code",
     "collapsed": false,
     "input": [
      "man_noise['Incident Zip'].value_counts()[:10].plot(kind='bar', color = my_colors)"
     ],
     "language": "python",
     "metadata": {},
     "outputs": [
      {
       "metadata": {},
       "output_type": "pyout",
       "prompt_number": 7,
       "text": [
        "<matplotlib.axes.AxesSubplot at 0x1134d3510>"
       ]
      },
      {
       "metadata": {},
       "output_type": "display_data",
       "png": "[encoded data removed]",
       "text": [
        "<matplotlib.figure.Figure at 0x1120ddc10>"
       ]
      }
     ],
     "prompt_number": 7
    },
    {
     "cell_type": "heading",
     "level": 1,
     "metadata": {},
     "source": [
      "Queens zips with the most complaints"
     ]
    },
    {
     "cell_type": "code",
     "collapsed": false,
     "input": [
      "bx_noise['Incident Zip'].value_counts()[:10].plot(kind='bar', color=my_colors)"
     ],
     "language": "python",
     "metadata": {},
     "outputs": [
      {
       "metadata": {},
       "output_type": "pyout",
       "prompt_number": 8,
       "text": [
        "<matplotlib.axes.AxesSubplot at 0x112140890>"
       ]
      },
      {
       "metadata": {},
       "output_type": "display_data",
       "png": "[encoded data removed]",
       "text": [
        "<matplotlib.figure.Figure at 0x11213c910>"
       ]
      }
     ],
     "prompt_number": 8
    }
   ],
   "metadata": {}
  }
 ]
}