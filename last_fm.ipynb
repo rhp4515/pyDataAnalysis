{
 "metadata": {
  "name": "",
  "signature": "sha256:1e1c6d549e307a1e0517d0d746562d531398db70fd84fd8c856e1c42ac87dbc4"
 },
 "nbformat": 3,
 "nbformat_minor": 0,
 "worksheets": [
  {
   "cells": [
    {
     "cell_type": "code",
     "collapsed": false,
     "input": [
      "# coding: utf-8\n",
      "\n",
      "# Goal: Construct a data set that relates Last.fm tags to each other, revealing\n",
      "# which genres (and other tags) are most associated.\n",
      "# Details: Using the Last.fm API, collect the top tags among a large set of popular\n",
      "# artists (1000 or more). This data should be structured and stored in whatever\n",
      "# format you deem most efficient. \n",
      "\n",
      "# From this raw data, create a metric that\n",
      "# compares how strongly associated the tags are to each other. Feel free to\n",
      "# include any weighting or balancing in your metric, as long as you can explain it.\n",
      "\n",
      "import json\n",
      "from math import sqrt \n",
      "\n",
      "import requests as r\n",
      "\n",
      "\n",
      "def get_top_artist(limit):\n",
      "    top_artist_url = 'http://ws.audioscrobbler.com/2.0/' \\\n",
      "        '?method=chart.gettopartists' \\\n",
      "        '&api_key=10954100660bed12d060bcdca8c87892' \\\n",
      "        '&format=json&limit={}'.format(limit)\n",
      "    \n",
      "    response = r.get(top_artist_url)\n",
      "    if response.ok:\n",
      "        json_load = json.loads(response.content)\n",
      "        top_artist = [item['name'] for item in json_load['artists']['artist']]\n",
      "       \n",
      "        return top_artist\n",
      "\n",
      "\n",
      "def get_tags_for_artist(artist_name, number_of_tags):\n",
      "    artist = artist_name\n",
      "    \n",
      "    tags_url = u'http://ws.audioscrobbler.com/2.0/' \\\n",
      "        '?method=artist.gettoptags&artist={}' \\\n",
      "        '&api_key=10954100660bed12d060bcdca8c87892' \\\n",
      "        '&format=json'.format(urllib.quote(artist_name.encode('utf-8')))\n",
      "\n",
      "    response = r.get(tags_url)\n",
      "   \n",
      "    if response.ok:\n",
      "        try:\n",
      "            trimmed_data = json.loads(response.content)['toptags']['tag'][0:number_of_tags]\n",
      "        except: \n",
      "            print artist_name\n",
      "            print response.content\n",
      "            raise\n",
      "            \n",
      "        tag_dict = {}\n",
      "        \n",
      "        # molding tag data for easier unions/intersections of tags\n",
      "        for item in trimmed_data:\n",
      "            \n",
      "            tag_dict[item['name']] = int(item['count'])\n",
      "            \n",
      "        return tag_dict\n"
     ],
     "language": "python",
     "metadata": {},
     "outputs": []
    },
    {
     "cell_type": "code",
     "collapsed": false,
     "input": [
      "def build_data_set():\n",
      "    artists = get_top_artist(1000)\n",
      "    data = {}\n",
      "    tag_count = 20\n",
      "    for artist in artists:\n",
      "        data[artist] = get_tags_for_artist(artist, tag_count)\n",
      "    \n",
      "    with open('dataset', 'w+') as f:\n",
      "        f.write(json.dumps(data))\n",
      "    "
     ],
     "language": "python",
     "metadata": {},
     "outputs": []
    },
    {
     "cell_type": "code",
     "collapsed": false,
     "input": [
      "# build_data_set()\n",
      "\n",
      "with open('dataset', 'r') as f:\n",
      "    dataset = json.loads(f.read())\n"
     ],
     "language": "python",
     "metadata": {},
     "outputs": []
    },
    {
     "cell_type": "code",
     "collapsed": false,
     "input": [
      "def get_distance(data, artist_1, artist_2):\n",
      "    \"\"\"\n",
      "    Euclideal Distance Score\n",
      "    \"\"\"\n",
      "    intersection = list(set(data[artist_1].keys()) & set(data[artist_2].keys()))\n",
      "    \n",
      "    if intersection:\n",
      "        # Add up squares of all of all diffrences\n",
      "        sum_of_squares = sum([pow(data[artist_1][item] - data[artist_2][item], 2) for item in intersection])\n",
      "        return 1 / (1 + sqrt(sum_of_squares))\n",
      "    else:\n",
      "        return 0\n",
      "    "
     ],
     "language": "python",
     "metadata": {},
     "outputs": []
    },
    {
     "cell_type": "code",
     "collapsed": true,
     "input": [
      "Radiohead_common = { artist: get_distance(dataset, 'Radiohead', artist) for artist in dataset.keys() }\n",
      "Radiohead_common\n",
      "from collections import OrderedDict\n",
      "OrderedDict(sorted(Radiohead_common.items(), key=lambda t: t[1]))\n"
     ],
     "language": "python",
     "metadata": {},
     "outputs": []
    }
   ],
   "metadata": {}
  }
 ]
}